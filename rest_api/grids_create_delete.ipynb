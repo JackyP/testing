{
 "cells": [
  {
   "cell_type": "code",
   "execution_count": 1,
   "metadata": {
    "collapsed": true
   },
   "outputs": [],
   "source": [
    "import json\n",
    "import requests\n",
    "from requests.auth import HTTPBasicAuth\n",
    "import pandas as pd\n",
    "from plotly import utils"
   ]
  },
  {
   "cell_type": "code",
   "execution_count": 2,
   "metadata": {
    "collapsed": false
   },
   "outputs": [],
   "source": [
    "username = 'removegrids'    #however in this example the account will be 'yankev'\n",
    "api_key = 'jl9towemhr'\n",
    "\n",
    "auth = HTTPBasicAuth(username, api_key)\n",
    "headers = {'Plotly-Client-Platform': 'python'}\n",
    "page_size = 500"
   ]
  },
  {
   "cell_type": "code",
   "execution_count": null,
   "metadata": {
    "collapsed": true
   },
   "outputs": [],
   "source": [
    "# Create a grid for testing"
   ]
  },
  {
   "cell_type": "code",
   "execution_count": null,
   "metadata": {
    "collapsed": false
   },
   "outputs": [],
   "source": [
    "# this method uses pre-defined functions in the Plotly.py library\n",
    "\n",
    "from plotly.grid_objs import Column, Grid\n",
    "import plotly.plotly as py\n",
    "\n",
    "column_1 = Column([1, 2, 3], 'column 1')\n",
    "grid = Grid([column_1])\n",
    "\n",
    "url = py.grid_ops.upload(grid, \n",
    "                         'grid example9999',      # name of the grid in your plotly account\n",
    "                         world_readable=True, # public or private\n",
    "                         auto_open=False)      # open the grid in the browser"
   ]
  },
  {
   "cell_type": "code",
   "execution_count": 12,
   "metadata": {
    "collapsed": false
   },
   "outputs": [],
   "source": [
    "# alternatively you can make your own requests\n",
    "\n",
    "payload = {'filename': 'testgrid',\n",
    "          \"data\": json.dumps({\"cols\": {\"first\": {\"data\": [1,2,3], \"order\": 0}}}, cls=utils.PlotlyJSONEncoder),\n",
    "          \"world_readable\": True}\n",
    "response = requests.post('https://api.plot.ly/v2/grids/', auth=auth, headers=headers, data=payload)\n"
   ]
  },
  {
   "cell_type": "code",
   "execution_count": null,
   "metadata": {
    "collapsed": true
   },
   "outputs": [],
   "source": [
    "# get the fid of the grid that was just created"
   ]
  },
  {
   "cell_type": "code",
   "execution_count": 36,
   "metadata": {
    "collapsed": false
   },
   "outputs": [
    {
     "data": {
      "text/plain": [
       "'removegrids:0'"
      ]
     },
     "execution_count": 36,
     "metadata": {},
     "output_type": "execute_result"
    }
   ],
   "source": [
    "grid = json.loads(response.content)['file']['fid'].encode('utf8')\n",
    "grid"
   ]
  },
  {
   "cell_type": "code",
   "execution_count": null,
   "metadata": {
    "collapsed": true
   },
   "outputs": [],
   "source": [
    "# Delete the grid"
   ]
  },
  {
   "cell_type": "code",
   "execution_count": 42,
   "metadata": {
    "collapsed": false
   },
   "outputs": [
    {
     "name": "stdout",
     "output_type": "stream",
     "text": [
      "204\n",
      "\n"
     ]
    }
   ],
   "source": [
    "response = requests.delete('https://api.plot.ly/v2/grids/{}'.format(grid), auth=auth, headers=headers)\n",
    "print response.status_code\n",
    "print response.content\n",
    "# response = requests.delete('https://api.plot.ly/v2/grids/{}/permanent_delete'.format(grid), auth=auth, headers=headers)"
   ]
  },
  {
   "cell_type": "code",
   "execution_count": null,
   "metadata": {
    "collapsed": true
   },
   "outputs": [],
   "source": [
    "# Permanently delete the grid"
   ]
  },
  {
   "cell_type": "code",
   "execution_count": 44,
   "metadata": {
    "collapsed": false
   },
   "outputs": [
    {
     "name": "stdout",
     "output_type": "stream",
     "text": [
      "204\n",
      "\n"
     ]
    }
   ],
   "source": [
    "response = requests.delete('https://api.plot.ly/v2/grids/{}/permanent_delete'.format(grid), auth=auth, headers=headers)\n",
    "print response.status_code\n",
    "print response.content"
   ]
  },
  {
   "cell_type": "markdown",
   "metadata": {},
   "source": [
    "### Below are some functions that you could use in order to get all the files"
   ]
  },
  {
   "cell_type": "code",
   "execution_count": 48,
   "metadata": {
    "collapsed": false
   },
   "outputs": [],
   "source": [
    "def get_files(file):\n",
    "    '''\n",
    "    This function will the name, fid, and path of all the files in your\n",
    "    plotly repository with the file type you choose\n",
    "    -----\n",
    "    Arguments\n",
    "    file: the type of file we want to retrieve and takes on values ['plot', 'fold', 'grid']\n",
    "    \n",
    "    Returns: A list of lists, containing the information required\n",
    "    \n",
    "    '''\n",
    "    \n",
    "    url = 'https://api.plot.ly/v2/folders/all?user='+username+'&filetype='+file+'&page_size='+str(page_size)\n",
    "    response = requests.get(url, auth=auth, headers=headers)\n",
    "    page = json.loads(response.content)\n",
    "    temp = []\n",
    "    for i in range(page['children']['count']):\n",
    "        path = requests.get('https://api.plot.ly/v2/files/{}/path'.format(page['children']['results'][i]['fid']), auth=auth, headers=headers)\n",
    "        #print('Filename: {}, fid: {}, path: {}'.format(page['children']['results'][i]['filename'],page['children']['results'][i]['fid'],str.split(path.content,\":\")[1][1:-2]))\n",
    "        temp.append([page['children']['results'][i]['filename'],page['children']['results'][i]['fid'],str.split(path.content,\":\")[1][1:-2]])\n",
    "    return temp \n",
    "\n",
    "grids = get_files('grid')"
   ]
  },
  {
   "cell_type": "code",
   "execution_count": 49,
   "metadata": {
    "collapsed": false
   },
   "outputs": [],
   "source": [
    "def files2df(data):\n",
    "    '''\n",
    "    This function will turn your data into a dataframe\n",
    "    -----\n",
    "    Arguments\n",
    "    data: Output of get_files call\n",
    "    \n",
    "    Returns: a data frame containing information in \"data\"\n",
    "    '''\n",
    "    return pd.DataFrame(data,columns=['name','fid','path'])\n",
    "\n",
    "df_grids = files2df(grids)"
   ]
  },
  {
   "cell_type": "code",
   "execution_count": 50,
   "metadata": {
    "collapsed": false
   },
   "outputs": [
    {
     "data": {
      "text/html": [
       "<div style=\"max-height:1000px;max-width:1500px;overflow:auto;\">\n",
       "<table border=\"1\" class=\"dataframe\">\n",
       "  <thead>\n",
       "    <tr style=\"text-align: right;\">\n",
       "      <th></th>\n",
       "      <th>name</th>\n",
       "      <th>fid</th>\n",
       "      <th>path</th>\n",
       "    </tr>\n",
       "  </thead>\n",
       "  <tbody>\n",
       "  </tbody>\n",
       "</table>\n",
       "</div>"
      ],
      "text/plain": [
       "Empty DataFrame\n",
       "Columns: [name, fid, path]\n",
       "Index: []"
      ]
     },
     "execution_count": 50,
     "metadata": {},
     "output_type": "execute_result"
    }
   ],
   "source": [
    "df_grids"
   ]
  },
  {
   "cell_type": "code",
   "execution_count": null,
   "metadata": {
    "collapsed": true
   },
   "outputs": [],
   "source": []
  }
 ],
 "metadata": {
  "kernelspec": {
   "display_name": "Python 2",
   "language": "python",
   "name": "python2"
  },
  "language_info": {
   "codemirror_mode": {
    "name": "ipython",
    "version": 2
   },
   "file_extension": ".py",
   "mimetype": "text/x-python",
   "name": "python",
   "nbconvert_exporter": "python",
   "pygments_lexer": "ipython2",
   "version": "2.7.9"
  }
 },
 "nbformat": 4,
 "nbformat_minor": 0
}
